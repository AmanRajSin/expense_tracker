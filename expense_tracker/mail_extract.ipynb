{
 "cells": [
  {
   "cell_type": "code",
   "execution_count": 1,
   "metadata": {},
   "outputs": [],
   "source": [
    "import yaml\n",
    "import logging\n",
    "import imaplib\n",
    "import email\n",
    "from email.header import decode_header\n",
    "from email import message_from_bytes\n",
    "from datetime import date\n",
    "from dateutil.relativedelta import relativedelta\n",
    "import json\n",
    "import pandas as pd\n"
   ]
  },
  {
   "cell_type": "code",
   "execution_count": 2,
   "metadata": {},
   "outputs": [],
   "source": [
    "def load_credentials(filepath):\n",
    "    try:\n",
    "        with open(filepath, 'r') as file:\n",
    "            credentials = yaml.safe_load(file)\n",
    "            user = credentials['user']\n",
    "            password = credentials['password']\n",
    "            return user, password\n",
    "    except Exception as e:\n",
    "        logging.error(\"Failed to load credentials: {}\".format(e))\n",
    "        raise\n",
    "\n",
    "def connect_to_gmail_imap(user, password):\n",
    "    imap_url = 'imap.gmail.com'\n",
    "    try:\n",
    "        mail = imaplib.IMAP4_SSL(imap_url)\n",
    "        mail.login(user, password)\n",
    "        mail.select('inbox')  # Connect to the inbox.\n",
    "        return mail\n",
    "    except Exception as e:\n",
    "        logging.error(\"Connection failed: {}\".format(e))\n",
    "        raise\n",
    "\n",
    "def clean_header(header_value):\n",
    "    \"\"\"Decode and clean email headers.\"\"\"\n",
    "    if not header_value:\n",
    "        return \"\"\n",
    "    decoded = decode_header(header_value)\n",
    "    decoded_str = \"\"\n",
    "    for part, encoding in decoded:\n",
    "        if isinstance(part, bytes):\n",
    "            decoded_str += part.decode(encoding or 'utf-8', errors='ignore')\n",
    "        else:\n",
    "            decoded_str += part\n",
    "    return decoded_str\n",
    "\n",
    "def get_body(msg):\n",
    "    \"\"\"Extract plain text email body from a message object.\"\"\"\n",
    "    if msg.is_multipart():\n",
    "        for part in msg.walk():\n",
    "            content_type = part.get_content_type()\n",
    "            content_disposition = str(part.get(\"Content-Disposition\"))\n",
    "            if content_type == \"text/plain\" and \"attachment\" not in content_disposition:\n",
    "                try:\n",
    "                    return part.get_payload(decode=True).decode(errors='ignore')\n",
    "                except:\n",
    "                    pass\n",
    "    else:\n",
    "        try:\n",
    "            return msg.get_payload(decode=True).decode(errors='ignore')\n",
    "        except:\n",
    "            pass\n",
    "    return \"\"\n"
   ]
  },
  {
   "cell_type": "code",
   "execution_count": 3,
   "metadata": {},
   "outputs": [
    {
     "name": "stdout",
     "output_type": "stream",
     "text": [
      "Connected!\n"
     ]
    },
    {
     "data": {
      "text/plain": [
       "('BYE', [b'LOGOUT Requested'])"
      ]
     },
     "execution_count": 3,
     "metadata": {},
     "output_type": "execute_result"
    }
   ],
   "source": [
    "# Connect to mail client\n",
    "credentials = load_credentials('credentials.yaml')\n",
    "mail = connect_to_gmail_imap(*credentials)\n",
    "print('Connected!')\n",
    "\n",
    "# Define date range\n",
    "end_date = date.today()\n",
    "start_date = end_date - relativedelta(months=12)\n",
    "since = start_date.strftime(\"%d-%b-%Y\")\n",
    "before = end_date.strftime(\"%d-%b-%Y\")\n",
    "\n",
    "# Search for emails in date range\n",
    "status, data = mail.search(None, f'(SINCE {since} BEFORE {before})')\n",
    "email_ids = data[0].split()\n",
    "emails = []\n",
    "\n",
    "for num in email_ids:\n",
    "    status, msg_data = mail.fetch(num, '(RFC822)')\n",
    "    if status != 'OK':\n",
    "        continue\n",
    "    msg = message_from_bytes(msg_data[0][1])\n",
    "\n",
    "    email_data = {\n",
    "        \"from\": clean_header(msg.get(\"From\")),\n",
    "        \"to\": clean_header(msg.get(\"To\")),\n",
    "        \"subject\": clean_header(msg.get(\"Subject\")),\n",
    "        \"date\": msg.get(\"Date\"),\n",
    "        \"body\": get_body(msg)\n",
    "    }\n",
    "    emails.append(email_data)\n",
    "\n",
    "# Logout mail\n",
    "mail.logout()"
   ]
  },
  {
   "cell_type": "code",
   "execution_count": 4,
   "metadata": {},
   "outputs": [
    {
     "name": "stdout",
     "output_type": "stream",
     "text": [
      "Saved 2709 emails to emails.json.\n"
     ]
    }
   ],
   "source": [
    "# Save to JSON\n",
    "with open(\"emails.json\", \"w\", encoding='utf-8') as f:\n",
    "    json.dump(emails, f, ensure_ascii=False, indent=4)\n",
    "\n",
    "print(f\"Saved {len(emails)} emails to emails.json.\")"
   ]
  }
 ],
 "metadata": {
  "kernelspec": {
   "display_name": ".venv",
   "language": "python",
   "name": "python3"
  },
  "language_info": {
   "codemirror_mode": {
    "name": "ipython",
    "version": 3
   },
   "file_extension": ".py",
   "mimetype": "text/x-python",
   "name": "python",
   "nbconvert_exporter": "python",
   "pygments_lexer": "ipython3",
   "version": "3.12.5"
  }
 },
 "nbformat": 4,
 "nbformat_minor": 2
}
